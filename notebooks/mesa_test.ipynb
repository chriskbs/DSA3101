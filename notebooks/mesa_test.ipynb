{
 "cells": [
  {
   "cell_type": "code",
   "execution_count": null,
   "metadata": {},
   "outputs": [],
   "source": [
    "!pip install --upgrade mesa\n",
    "!pip install --upgrade networkx[default]"
   ]
  },
  {
   "cell_type": "code",
   "execution_count": 71,
   "metadata": {},
   "outputs": [],
   "source": [
    "import numpy as np\n",
    "import pandas as pd\n",
    "import matplotlib.pyplot as plt\n",
    "%matplotlib inline\n",
    "import seaborn as sns\n",
    "import mesa\n",
    "import networkx as nx"
   ]
  },
  {
   "cell_type": "code",
   "execution_count": 41,
   "metadata": {},
   "outputs": [],
   "source": [
    "df = pd.read_csv('data/20230413_clb_taps.csv')\n",
    "df['Datetime'] = pd.to_datetime(df['Datetime'])\n",
    "entry_df = df.set_index('Datetime')\n",
    "entry_df = entry_df[entry_df['Direction']=='Entry']['Direction'].resample('10min',  label='left').count().reset_index()"
   ]
  },
  {
   "cell_type": "code",
   "execution_count": 42,
   "metadata": {},
   "outputs": [
    {
     "data": {
      "text/html": [
       "<div>\n",
       "<style scoped>\n",
       "    .dataframe tbody tr th:only-of-type {\n",
       "        vertical-align: middle;\n",
       "    }\n",
       "\n",
       "    .dataframe tbody tr th {\n",
       "        vertical-align: top;\n",
       "    }\n",
       "\n",
       "    .dataframe thead th {\n",
       "        text-align: right;\n",
       "    }\n",
       "</style>\n",
       "<table border=\"1\" class=\"dataframe\">\n",
       "  <thead>\n",
       "    <tr style=\"text-align: right;\">\n",
       "      <th></th>\n",
       "      <th>Datetime</th>\n",
       "      <th>Direction</th>\n",
       "    </tr>\n",
       "  </thead>\n",
       "  <tbody>\n",
       "    <tr>\n",
       "      <th>0</th>\n",
       "      <td>2023-04-12 22:50:00+00:00</td>\n",
       "      <td>1</td>\n",
       "    </tr>\n",
       "    <tr>\n",
       "      <th>1</th>\n",
       "      <td>2023-04-12 23:00:00+00:00</td>\n",
       "      <td>0</td>\n",
       "    </tr>\n",
       "    <tr>\n",
       "      <th>2</th>\n",
       "      <td>2023-04-12 23:10:00+00:00</td>\n",
       "      <td>0</td>\n",
       "    </tr>\n",
       "    <tr>\n",
       "      <th>3</th>\n",
       "      <td>2023-04-12 23:20:00+00:00</td>\n",
       "      <td>3</td>\n",
       "    </tr>\n",
       "    <tr>\n",
       "      <th>4</th>\n",
       "      <td>2023-04-12 23:30:00+00:00</td>\n",
       "      <td>3</td>\n",
       "    </tr>\n",
       "    <tr>\n",
       "      <th>...</th>\n",
       "      <td>...</td>\n",
       "      <td>...</td>\n",
       "    </tr>\n",
       "    <tr>\n",
       "      <th>79</th>\n",
       "      <td>2023-04-13 12:00:00+00:00</td>\n",
       "      <td>13</td>\n",
       "    </tr>\n",
       "    <tr>\n",
       "      <th>80</th>\n",
       "      <td>2023-04-13 12:10:00+00:00</td>\n",
       "      <td>22</td>\n",
       "    </tr>\n",
       "    <tr>\n",
       "      <th>81</th>\n",
       "      <td>2023-04-13 12:20:00+00:00</td>\n",
       "      <td>13</td>\n",
       "    </tr>\n",
       "    <tr>\n",
       "      <th>82</th>\n",
       "      <td>2023-04-13 12:30:00+00:00</td>\n",
       "      <td>18</td>\n",
       "    </tr>\n",
       "    <tr>\n",
       "      <th>83</th>\n",
       "      <td>2023-04-13 12:40:00+00:00</td>\n",
       "      <td>7</td>\n",
       "    </tr>\n",
       "  </tbody>\n",
       "</table>\n",
       "<p>84 rows × 2 columns</p>\n",
       "</div>"
      ],
      "text/plain": [
       "                    Datetime  Direction\n",
       "0  2023-04-12 22:50:00+00:00          1\n",
       "1  2023-04-12 23:00:00+00:00          0\n",
       "2  2023-04-12 23:10:00+00:00          0\n",
       "3  2023-04-12 23:20:00+00:00          3\n",
       "4  2023-04-12 23:30:00+00:00          3\n",
       "..                       ...        ...\n",
       "79 2023-04-13 12:00:00+00:00         13\n",
       "80 2023-04-13 12:10:00+00:00         22\n",
       "81 2023-04-13 12:20:00+00:00         13\n",
       "82 2023-04-13 12:30:00+00:00         18\n",
       "83 2023-04-13 12:40:00+00:00          7\n",
       "\n",
       "[84 rows x 2 columns]"
      ]
     },
     "execution_count": 42,
     "metadata": {},
     "output_type": "execute_result"
    }
   ],
   "source": [
    "entry_df"
   ]
  },
  {
   "cell_type": "markdown",
   "metadata": {},
   "source": [
    "## Agent-Based Model"
   ]
  },
  {
   "cell_type": "code",
   "execution_count": 164,
   "metadata": {},
   "outputs": [],
   "source": [
    "class LibAgent(mesa.Agent):\n",
    "    \"\"\"An agent representing library user\"\"\"\n",
    "    def __init__(self, unique_id, model):\n",
    "        super().__init__(unique_id, model)\n",
    "        self.timesteps = np.random.uniform(1,20) # time spent studying in library\n",
    "        self.timesteps = np.random.normal(10,0) # time spent studying in library\n",
    "\n",
    "    def step(self):\n",
    "        if self.timesteps > 0:\n",
    "            self.timesteps -= 1\n",
    "        else:\n",
    "            self.model.schedule.remove(self)\n",
    "            # TODO: remove from grid/network"
   ]
  },
  {
   "cell_type": "code",
   "execution_count": 160,
   "metadata": {},
   "outputs": [],
   "source": [
    "def compute_agents(model):\n",
    "    return len(model.schedule.agents)\n",
    "\n",
    "class LibModel(mesa.Model):\n",
    "    \"\"\"A model with some number of agents.\"\"\"\n",
    "\n",
    "    def __init__(self, entry_df):\n",
    "        self.schedule = mesa.time.RandomActivation(self)\n",
    "        self._curr_step = 0\n",
    "        self.entry_dist = entry_df.to_dict()['Direction']\n",
    "        self.total_steps = len(self.entry_dist) # total steps taken\n",
    "        self.datacollector = mesa.DataCollector(\n",
    "            model_reporters={\"num_agents\": compute_agents},#  agent_reporters={\"Wealth\": \"wealth\"}\n",
    "        )\n",
    "\n",
    "    def step(self):\n",
    "        self.datacollector.collect(self)\n",
    "        # Create agents, where number of agents follows Poisson distribution\n",
    "        num_agents = self.entry_dist[self._curr_step]\n",
    "        for i in range(np.random.poisson(num_agents)):\n",
    "            agent = LibAgent(f'{self._curr_step}-{i}', self)\n",
    "            # print(agent.unique_id, 'created!') # for debugging\n",
    "            self.schedule.add(agent) # add to schedule\n",
    "        self.schedule.step()\n",
    "        self._curr_step += 1\n",
    "\n",
    "    def run(self):\n",
    "        for i in range(self.total_steps):\n",
    "            self.step()"
   ]
  },
  {
   "cell_type": "code",
   "execution_count": 165,
   "metadata": {},
   "outputs": [
    {
     "data": {
      "text/plain": [
       "<AxesSubplot: xlabel='Datetime', ylabel='num_agents'>"
      ]
     },
     "execution_count": 165,
     "metadata": {},
     "output_type": "execute_result"
    },
    {
     "data": {
      "image/png": "[encoded data removed]",
      "text/plain": [
       "<Figure size 640x480 with 1 Axes>"
      ]
     },
     "metadata": {},
     "output_type": "display_data"
    }
   ],
   "source": [
    "model = LibModel(entry_df)\n",
    "model.run()\n",
    "results = model.datacollector.get_model_vars_dataframe()\n",
    "results['Datetime'] = entry_df['Datetime']\n",
    "sns.lineplot(results, x='Datetime', y='num_agents')"
   ]
  }
 ],
 "metadata": {
  "kernelspec": {
   "display_name": "Python 3",
   "language": "python",
   "name": "python3"
  },
  "language_info": {
   "name": "python",
   "version": "3.11.2"
  }
 },
 "nbformat": 4,
 "nbformat_minor": 2
}
