{
 "cells": [
  {
   "cell_type": "code",
   "execution_count": null,
   "metadata": {},
   "outputs": [],
   "source": [
    "!pip install --upgrade mesa\n",
    "!pip install --upgrade networkx[default]"
   ]
  },
  {
   "cell_type": "code",
   "execution_count": null,
   "metadata": {},
   "outputs": [],
   "source": [
    "import numpy as np\n",
    "import pandas as pd\n",
    "import matplotlib.pyplot as plt\n",
    "%matplotlib inline\n",
    "import seaborn as sns\n",
    "import mesa\n",
    "import networkx as nx"
   ]
  },
  {
   "cell_type": "code",
   "execution_count": null,
   "metadata": {},
   "outputs": [],
   "source": [
    "df = pd.read_csv('data/20230413_clb_taps.csv')\n",
    "df['Datetime'] = pd.to_datetime(df['Datetime'])\n",
    "entry_df = df.set_index('Datetime')\n",
    "entry_df = entry_df[entry_df['Direction']=='Entry']['Direction'].resample('10min',  label='left').count().reset_index()"
   ]
  },
  {
   "cell_type": "code",
   "execution_count": null,
   "metadata": {},
   "outputs": [],
   "source": [
    "entry_df"
   ]
  },
  {
   "cell_type": "markdown",
   "metadata": {},
   "source": [
    "## Agent-Based Model"
   ]
  },
  {
   "cell_type": "code",
   "execution_count": null,
   "metadata": {},
   "outputs": [],
   "source": [
    "class LibAgent(mesa.Agent):\n",
    "    \"\"\"An agent representing library user\"\"\"\n",
    "    def __init__(self, unique_id, model):\n",
    "        super().__init__(unique_id, model)\n",
    "        self.timesteps = np.random.uniform(1,20) # time spent studying in library\n",
    "        self.timesteps = np.random.normal(10,0) # time spent studying in library\n",
    "\n",
    "    def step(self):\n",
    "        if self.timesteps > 0:\n",
    "            self.timesteps -= 1\n",
    "        else:\n",
    "            self.model.schedule.remove(self)\n",
    "            # TODO: remove from grid/network"
   ]
  },
  {
   "cell_type": "code",
   "execution_count": null,
   "metadata": {},
   "outputs": [],
   "source": [
    "def compute_agents(model):\n",
    "    return len(model.schedule.agents)\n",
    "\n",
    "class LibModel(mesa.Model):\n",
    "    \"\"\"A model with some number of agents.\"\"\"\n",
    "\n",
    "    def __init__(self, entry_df):\n",
    "        self.schedule = mesa.time.RandomActivation(self)\n",
    "        self._curr_step = 0\n",
    "        self.entry_dist = entry_df.to_dict()['Direction']\n",
    "        self.total_steps = len(self.entry_dist) # total steps taken\n",
    "        self.datacollector = mesa.DataCollector(\n",
    "            model_reporters={\"num_agents\": compute_agents},#  agent_reporters={\"Wealth\": \"wealth\"}\n",
    "        )\n",
    "\n",
    "    def step(self):\n",
    "        self.datacollector.collect(self)\n",
    "        # Create agents, where number of agents follows Poisson distribution\n",
    "        num_agents = self.entry_dist[self._curr_step]\n",
    "        for i in range(np.random.poisson(num_agents)):\n",
    "            agent = LibAgent(f'{self._curr_step}-{i}', self)\n",
    "            # print(agent.unique_id, 'created!') # for debugging\n",
    "            self.schedule.add(agent) # add to schedule\n",
    "        self.schedule.step()\n",
    "        self._curr_step += 1\n",
    "\n",
    "    def run(self):\n",
    "        for i in range(self.total_steps):\n",
    "            self.step()"
   ]
  },
  {
   "cell_type": "code",
   "execution_count": null,
   "metadata": {},
   "outputs": [],
   "source": [
    "model = LibModel(entry_df)\n",
    "model.run()\n",
    "results = model.datacollector.get_model_vars_dataframe()\n",
    "results['Datetime'] = entry_df['Datetime']\n",
    "sns.lineplot(results, x='Datetime', y='num_agents')"
   ]
  },
  {
   "cell_type": "code",
   "execution_count": null,
   "metadata": {},
   "outputs": [],
   "source": [
    "class LibAgent(mesa.Agent):\n",
    "    #initialize\n",
    "    def __init__(self, unique_id, model, year, pref_levels, pref_seat_types, environment_qualities):\n",
    "        super().__init__(unique_id, model)\n",
    "        self.year = year\n",
    "        self.pref_levels = pref_levels #lists\n",
    "        self.pref_seat_types = pref_seat_types #lists\n",
    "        self.environment_qualities = environment_qualities # dictionary of{'Privacy' : 0, 'Crowd level' : 0, 'Comfort' : 0, 'Scenery' : 0, 'Lighting' : 0, 'Ease of finding seats' : 0}\n",
    "        self.timesteps = np.random.uniform(1,20) # time spent studying in library\n",
    "        self.pos = None\n",
    "    \n",
    "    def step(self):\n",
    "        if self.timestep > 0:\n",
    "            # Check if the agent is already in a section\n",
    "            if self.pos is None: #not yet in a section\n",
    "                self.pos = self.find_section()  # Move the agent to the chosen section\n",
    "                self.timestep -= 1\n",
    "            else:\n",
    "                self.timestep -= 1\n",
    "                if self.timestep == 0:\n",
    "                    # Ready to leave library\n",
    "                    self.model.schedule.remove(self)\n",
    "    \n",
    "    def find_section(self):\n",
    "        "
   ]
  }
 ],
 "metadata": {
  "kernelspec": {
   "display_name": "Python 3",
   "language": "python",
   "name": "python3"
  },
  "language_info": {
   "codemirror_mode": {
    "name": "ipython",
    "version": 3
   },
   "file_extension": ".py",
   "mimetype": "text/x-python",
   "name": "python",
   "nbconvert_exporter": "python",
   "pygments_lexer": "ipython3",
   "version": "3.10.0"
  }
 },
 "nbformat": 4,
 "nbformat_minor": 2
}
