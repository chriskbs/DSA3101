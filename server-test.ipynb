{
 "cells": [
  {
   "cell_type": "code",
   "execution_count": 7,
   "metadata": {},
   "outputs": [
    {
     "name": "stdout",
     "output_type": "stream",
     "text": [
      "Files processed successfully\n",
      "Result CSV file: downloads\\test.csv\n",
      "Result JSON file: downloads\\test.json\n"
     ]
    }
   ],
   "source": [
    "import requests\n",
    "\n",
    "# Specify the API endpoint\n",
    "upload_url = 'http://127.0.0.1:5000/upload'\n",
    "\n",
    "# Prepare files to upload\n",
    "files = {\n",
    "    'json': ('submission.json', open('static/lib_sections.json', 'rb')),\n",
    "    'csv': ('entries.csv', open('data/20230413_clb_taps.csv', 'rb'))\n",
    "}\n",
    "\n",
    "# Make the POST request to the API\n",
    "response = requests.post(upload_url, params={'exam_period':'False'}, files=files)\n",
    "\n",
    "# Check the response\n",
    "if response.status_code == 200:\n",
    "    result = response.json()\n",
    "    print('Files processed successfully')\n",
    "    print(f'Result CSV file: {result[\"result_csv\"]}')\n",
    "    print(f'Result JSON file: {result[\"result_json\"]}')\n",
    "else:\n",
    "    print(f'Error: {response.status_code}')\n",
    "    print(response.json())"
   ]
  },
  {
   "cell_type": "code",
   "execution_count": 2,
   "metadata": {},
   "outputs": [
    {
     "data": {
      "text/plain": [
       "{'message': 'Files processed successfully',\n",
       " 'result_csv': 'downloads\\\\output.csv',\n",
       " 'result_json': 'downloads\\\\output.json'}"
      ]
     },
     "execution_count": 2,
     "metadata": {},
     "output_type": "execute_result"
    }
   ],
   "source": [
    "response.json()"
   ]
  },
  {
   "cell_type": "markdown",
   "metadata": {},
   "source": [
    "## Download\n",
    "can be accessed using download method"
   ]
  },
  {
   "cell_type": "code",
   "execution_count": 13,
   "metadata": {},
   "outputs": [
    {
     "data": {
      "text/plain": [
       "272185"
      ]
     },
     "execution_count": 13,
     "metadata": {},
     "output_type": "execute_result"
    }
   ],
   "source": [
    "download_url = 'http://127.0.0.1:5000/download'\n",
    "response = requests.get(download_url + '/test.csv')\n",
    "path_to_download = \"test.csv\"\n",
    "open(path_to_download, \"wb\").write(response.content)"
   ]
  }
 ],
 "metadata": {
  "kernelspec": {
   "display_name": "Python 3",
   "language": "python",
   "name": "python3"
  },
  "language_info": {
   "codemirror_mode": {
    "name": "ipython",
    "version": 3
   },
   "file_extension": ".py",
   "mimetype": "text/x-python",
   "name": "python",
   "nbconvert_exporter": "python",
   "pygments_lexer": "ipython3",
   "version": "3.11.2"
  }
 },
 "nbformat": 4,
 "nbformat_minor": 2
}
