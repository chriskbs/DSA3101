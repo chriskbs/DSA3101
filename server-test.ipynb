{
 "cells": [
  {
   "cell_type": "markdown",
   "metadata": {},
   "source": [
    "# API Test"
   ]
  },
  {
   "cell_type": "markdown",
   "metadata": {},
   "source": [
    "## Upload"
   ]
  },
  {
   "cell_type": "code",
   "execution_count": 10,
   "metadata": {},
   "outputs": [
    {
     "name": "stdout",
     "output_type": "stream",
     "text": [
      "Files processed successfully\n",
      "Result CSV file: test-20231112.csv\n",
      "Result JSON file: test-20231112.json\n"
     ]
    }
   ],
   "source": [
    "import requests\n",
    "\n",
    "# Specify the API endpoint\n",
    "upload_url = 'http://127.0.0.1:5000/upload'\n",
    "\n",
    "# Prepare files to upload\n",
    "files = {\n",
    "    'json': ('submission.json', open('static/lib_sections.json', 'rb')),\n",
    "    'csv': ('entries.csv', open('data/20230413_clb_taps.csv', 'rb'))\n",
    "}\n",
    "\n",
    "# Make the POST request to the API\n",
    "response = requests.post(upload_url, params={'exam_period':'False'}, files=files)\n",
    "\n",
    "# Check the response\n",
    "if response.status_code == 200:\n",
    "    result = response.json()\n",
    "    print('Files processed successfully')\n",
    "    print(f'Result CSV file: {result[\"result_csv\"]}')\n",
    "    print(f'Result JSON file: {result[\"result_json\"]}')\n",
    "else:\n",
    "    print(f'Error: {response.status_code}')\n",
    "    print(response.json())"
   ]
  },
  {
   "cell_type": "code",
   "execution_count": 2,
   "metadata": {},
   "outputs": [
    {
     "data": {
      "text/plain": [
       "{'message': 'Files processed successfully',\n",
       " 'result_csv': 'test-20231112.csv',\n",
       " 'result_json': 'test-20231112.json'}"
      ]
     },
     "execution_count": 2,
     "metadata": {},
     "output_type": "execute_result"
    }
   ],
   "source": [
    "response.json()"
   ]
  },
  {
   "cell_type": "markdown",
   "metadata": {},
   "source": [
    "### Upload without CSV\n"
   ]
  },
  {
   "cell_type": "code",
   "execution_count": 8,
   "metadata": {},
   "outputs": [
    {
     "name": "stdout",
     "output_type": "stream",
     "text": [
      "Files processed successfully\n",
      "Result CSV file: test-20231112.csv\n",
      "Result JSON file: test-20231112.json\n"
     ]
    }
   ],
   "source": [
    "import requests\n",
    "\n",
    "# Specify the API endpoint\n",
    "upload_url = 'http://127.0.0.1:5000/upload'\n",
    "\n",
    "# Prepare files to upload\n",
    "files = {\n",
    "    'json': ('submission.json', open('static/lib_sections.json', 'rb')),\n",
    "    # 'csv': ('entries.csv', open('data/20230413_clb_taps.csv', 'rb'))\n",
    "}\n",
    "\n",
    "# Make the POST request to the API\n",
    "response = requests.post(upload_url, files=files)\n",
    "\n",
    "# Check the response\n",
    "if response.status_code == 200:\n",
    "    result = response.json()\n",
    "    print('Files processed successfully')\n",
    "    print(f'Result CSV file: {result[\"result_csv\"]}')\n",
    "    print(f'Result JSON file: {result[\"result_json\"]}')\n",
    "else:\n",
    "    print(f'Error: {response.status_code}')\n",
    "    print(response.json())"
   ]
  },
  {
   "cell_type": "markdown",
   "metadata": {},
   "source": [
    "### Upload with specifying numbers of batch run"
   ]
  },
  {
   "cell_type": "code",
   "execution_count": 9,
   "metadata": {},
   "outputs": [
    {
     "name": "stdout",
     "output_type": "stream",
     "text": [
      "Files processed successfully\n",
      "Result CSV file: test-20231112.csv\n",
      "Result JSON file: test-20231112.json\n"
     ]
    }
   ],
   "source": [
    "import requests\n",
    "\n",
    "# Specify the API endpoint\n",
    "upload_url = 'http://127.0.0.1:5000/upload'\n",
    "\n",
    "# Prepare files to upload\n",
    "files = {\n",
    "    'json': ('submission.json', open('static/lib_sections.json', 'rb')),\n",
    "    'csv': ('entries.csv', open('data/20230413_clb_taps.csv', 'rb'))\n",
    "}\n",
    "\n",
    "# Make the POST request to the API\n",
    "response = requests.post(upload_url, params={'exam_period':'False', 'num_runs':3}, files=files)\n",
    "\n",
    "# Check the response\n",
    "if response.status_code == 200:\n",
    "    result = response.json()\n",
    "    print('Files processed successfully')\n",
    "    print(f'Result CSV file: {result[\"result_csv\"]}')\n",
    "    print(f'Result JSON file: {result[\"result_json\"]}')\n",
    "else:\n",
    "    print(f'Error: {response.status_code}')\n",
    "    print(response.json())"
   ]
  },
  {
   "cell_type": "code",
   "execution_count": 13,
   "metadata": {},
   "outputs": [
    {
     "name": "stdout",
     "output_type": "stream",
     "text": [
      "Files processed successfully\n",
      "Result CSV file: test-20231112.csv\n",
      "Result JSON file: test-20231112.json\n"
     ]
    }
   ],
   "source": [
    "import requests\n",
    "\n",
    "# Specify the API endpoint\n",
    "upload_url = 'http://127.0.0.1:5000/upload'\n",
    "\n",
    "# Prepare files to upload\n",
    "files = {\n",
    "    'json': ('submission.json', open('static/lib_sections.json', 'rb')),\n",
    "    # 'csv': ('entries.csv', open('data/20230413_clb_taps.csv', 'rb'))\n",
    "}\n",
    "\n",
    "# Make the POST request to the API\n",
    "response = requests.post(upload_url, params={'exam_period':'True', 'num_runs':10}, files=files)\n",
    "\n",
    "# Check the response\n",
    "if response.status_code == 200:\n",
    "    result = response.json()\n",
    "    print('Files processed successfully')\n",
    "    print(f'Result CSV file: {result[\"result_csv\"]}')\n",
    "    print(f'Result JSON file: {result[\"result_json\"]}')\n",
    "else:\n",
    "    print(f'Error: {response.status_code}')\n",
    "    print(response.json())"
   ]
  },
  {
   "cell_type": "markdown",
   "metadata": {},
   "source": [
    "## Download\n",
    "can be accessed using download method\n",
    "\n",
    "### Usage\n",
    "\n",
    "`http://localhost:5000/download/<filename>`, for example:\n",
    "\n",
    "`http://localhost:5000/download/test-20231112.csv` where `test-20231112.csv` is the filename that is returned by the `/upload` method above"
   ]
  },
  {
   "cell_type": "code",
   "execution_count": 3,
   "metadata": {},
   "outputs": [
    {
     "data": {
      "text/plain": [
       "267905"
      ]
     },
     "execution_count": 3,
     "metadata": {},
     "output_type": "execute_result"
    }
   ],
   "source": [
    "download_url = 'http://127.0.0.1:5000/download'\n",
    "filename = response.json()['result_csv']\n",
    "response = requests.get(download_url + f\"/{filename}\")\n",
    "path_to_download = f\"{filename}\"\n",
    "open(path_to_download, \"wb\").write(response.content)"
   ]
  }
 ],
 "metadata": {
  "kernelspec": {
   "display_name": "Python 3",
   "language": "python",
   "name": "python3"
  },
  "language_info": {
   "codemirror_mode": {
    "name": "ipython",
    "version": 3
   },
   "file_extension": ".py",
   "mimetype": "text/x-python",
   "name": "python",
   "nbconvert_exporter": "python",
   "pygments_lexer": "ipython3",
   "version": "3.11.2"
  }
 },
 "nbformat": 4,
 "nbformat_minor": 2
}
